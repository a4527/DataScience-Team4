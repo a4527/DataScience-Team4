{
  "nbformat": 4,
  "nbformat_minor": 0,
  "metadata": {
    "colab": {
      "provenance": []
    },
    "kernelspec": {
      "name": "python3",
      "display_name": "Python 3"
    },
    "language_info": {
      "name": "python"
    }
  },
  "cells": [
    {
      "cell_type": "code",
      "source": [
        "!pip install imbalanced-learn"
      ],
      "metadata": {
        "colab": {
          "base_uri": "https://localhost:8080/"
        },
        "id": "wOsqWE-22NCl",
        "outputId": "aa099360-0764-485f-a496-96f1c2ad8d34",
        "collapsed": true
      },
      "execution_count": null,
      "outputs": [
        {
          "output_type": "stream",
          "name": "stdout",
          "text": [
            "Requirement already satisfied: imbalanced-learn in /usr/local/lib/python3.11/dist-packages (0.13.0)\n",
            "Requirement already satisfied: numpy<3,>=1.24.3 in /usr/local/lib/python3.11/dist-packages (from imbalanced-learn) (2.0.2)\n",
            "Requirement already satisfied: scipy<2,>=1.10.1 in /usr/local/lib/python3.11/dist-packages (from imbalanced-learn) (1.15.3)\n",
            "Requirement already satisfied: scikit-learn<2,>=1.3.2 in /usr/local/lib/python3.11/dist-packages (from imbalanced-learn) (1.6.1)\n",
            "Requirement already satisfied: sklearn-compat<1,>=0.1 in /usr/local/lib/python3.11/dist-packages (from imbalanced-learn) (0.1.3)\n",
            "Requirement already satisfied: joblib<2,>=1.1.1 in /usr/local/lib/python3.11/dist-packages (from imbalanced-learn) (1.5.0)\n",
            "Requirement already satisfied: threadpoolctl<4,>=2.0.0 in /usr/local/lib/python3.11/dist-packages (from imbalanced-learn) (3.6.0)\n"
          ]
        }
      ]
    },
    {
      "cell_type": "code",
      "execution_count": null,
      "metadata": {
        "id": "wvGR5cNv09aR"
      },
      "outputs": [],
      "source": [
        "import pandas as pd\n",
        "import numpy as np\n",
        "import matplotlib.pyplot as plt\n",
        "import seaborn as sns\n",
        "from sklearn.model_selection import train_test_split, StratifiedKFold, cross_val_score, GridSearchCV\n",
        "from sklearn.decomposition import PCA\n",
        "from sklearn.tree import DecisionTreeClassifier\n",
        "from sklearn.ensemble import RandomForestClassifier\n",
        "from sklearn.metrics import accuracy_score, classification_report, confusion_matrix, roc_curve,auc\n",
        "from imblearn.over_sampling import SMOTE\n",
        "from imblearn.pipeline import Pipeline\n",
        "df = pd.read_csv('/content/power_marketing_dataset_preprocessed.csv')\n",
        "\n",
        "\n"
      ]
    },
    {
      "cell_type": "code",
      "source": [
        "# Step 1: 타깃을 이진 분류로 변환 (상위 30%는 High, 나머지는 Low)\n",
        "threshold = df[\"Target\"].quantile(0.70)\n",
        "df[\"Label\"] = df[\"Target\"].apply(lambda x: 1 if x >= threshold else 0)\n",
        "\n",
        "# 클래스 분포 확인\n",
        "df[\"Label\"].value_counts()"
      ],
      "metadata": {
        "colab": {
          "base_uri": "https://localhost:8080/",
          "height": 178
        },
        "id": "E85XkygV1JKm",
        "outputId": "18659a3c-63f2-49b2-912c-60dc81dd4765",
        "collapsed": true
      },
      "execution_count": null,
      "outputs": [
        {
          "output_type": "execute_result",
          "data": {
            "text/plain": [
              "Label\n",
              "0    700\n",
              "1    300\n",
              "Name: count, dtype: int64"
            ],
            "text/html": [
              "<div>\n",
              "<style scoped>\n",
              "    .dataframe tbody tr th:only-of-type {\n",
              "        vertical-align: middle;\n",
              "    }\n",
              "\n",
              "    .dataframe tbody tr th {\n",
              "        vertical-align: top;\n",
              "    }\n",
              "\n",
              "    .dataframe thead th {\n",
              "        text-align: right;\n",
              "    }\n",
              "</style>\n",
              "<table border=\"1\" class=\"dataframe\">\n",
              "  <thead>\n",
              "    <tr style=\"text-align: right;\">\n",
              "      <th></th>\n",
              "      <th>count</th>\n",
              "    </tr>\n",
              "    <tr>\n",
              "      <th>Label</th>\n",
              "      <th></th>\n",
              "    </tr>\n",
              "  </thead>\n",
              "  <tbody>\n",
              "    <tr>\n",
              "      <th>0</th>\n",
              "      <td>700</td>\n",
              "    </tr>\n",
              "    <tr>\n",
              "      <th>1</th>\n",
              "      <td>300</td>\n",
              "    </tr>\n",
              "  </tbody>\n",
              "</table>\n",
              "</div><br><label><b>dtype:</b> int64</label>"
            ]
          },
          "metadata": {},
          "execution_count": 4
        }
      ]
    },
    {
      "cell_type": "code",
      "source": [
        "#smote 알고리즘 적용 전\n",
        "\n",
        "X = df.drop(columns=[\"Target\", \"Label\"])\n",
        "y = df[\"Label\"]\n",
        "\n",
        "\n",
        "skf = StratifiedKFold(n_splits=5, shuffle=True, random_state=42)\n",
        "\n",
        "# 성능 저장용 리스트\n",
        "precision_list = []\n",
        "recall_list = []\n",
        "f1_list = []\n",
        "accuracy_list = []\n",
        "\n",
        "'''\n",
        "누적을 사용하는 이유는 kfold 방식을 사용하기 때문에\n",
        "모든 fold를 반영하여 전체적인 성능을 평가하는 것이 일반적인 방법임\n",
        "'''\n",
        "\n",
        "# confusion matrix 누적용\n",
        "conf_matrix_sum = None\n",
        "\n",
        "for train_idx, test_idx in skf.split(X, y):\n",
        "    X_train_fold, X_test_fold = X.iloc[train_idx], X.iloc[test_idx]\n",
        "    y_train_fold, y_test_fold = y.iloc[train_idx], y.iloc[test_idx]\n",
        "\n",
        "    # 모델 학습\n",
        "    rf = RandomForestClassifier(random_state=42)\n",
        "    rf.fit(X_train_fold, y_train_fold)\n",
        "\n",
        "    # 예측\n",
        "    y_pred_fold = rf.predict(X_test_fold)\n",
        "\n",
        "    # 점수 계산\n",
        "    report = classification_report(y_test_fold, y_pred_fold, output_dict=True)\n",
        "    precision_list.append(report['macro avg']['precision'])\n",
        "    recall_list.append(report['macro avg']['recall'])\n",
        "    f1_list.append(report['macro avg']['f1-score'])\n",
        "    accuracy_list.append(accuracy_score(y_test_fold, y_pred_fold))\n",
        "\n",
        "    cm = confusion_matrix(y_test_fold, y_pred_fold)\n",
        "    if conf_matrix_sum is None:\n",
        "      conf_matrix_sum = cm\n",
        "    else:\n",
        "      conf_matrix_sum += cm\n",
        "\n",
        "# 평균 출력\n",
        "print(\"Average Scores over 5 folds:\")\n",
        "print(f\"Precision (macro): {np.mean(precision_list):.4f}\")\n",
        "print(f\"Recall (macro):    {np.mean(recall_list):.4f}\")\n",
        "print(f\"F1-score (macro):  {np.mean(f1_list):.4f}\")\n",
        "print(f\"Accuracy:          {np.mean(accuracy_list):.4f}\")\n",
        "print(\"Total Confusion Matrix over 5 folds:\")\n",
        "print(conf_matrix_sum)"
      ],
      "metadata": {
        "colab": {
          "base_uri": "https://localhost:8080/"
        },
        "id": "ihi1m7UI3WZw",
        "outputId": "32675586-5e44-4fbf-f87c-f506d7f2d3e1",
        "collapsed": true
      },
      "execution_count": null,
      "outputs": [
        {
          "output_type": "stream",
          "name": "stdout",
          "text": [
            "Average Scores over 5 folds:\n",
            "Precision (macro): 0.6654\n",
            "Recall (macro):    0.6500\n",
            "F1-score (macro):  0.6542\n",
            "Accuracy:          0.7220\n",
            "Total Confusion Matrix over 5 folds:\n",
            "[[581 119]\n",
            " [159 141]]\n"
          ]
        }
      ]
    },
    {
      "cell_type": "markdown",
      "source": [
        "- score 개선하기 위한 방법*  \n",
        "1.하이퍼 파라미터 설정  \n",
        "2.임계값 조정   \n",
        "3.smote 알고리즘 사용   \n"
      ],
      "metadata": {
        "id": "L0ucUqNsDUb4"
      }
    },
    {
      "cell_type": "code",
      "source": [
        "\n",
        "# 하이퍼파라미터 그리드 정의\n",
        "param_grid = {\n",
        "    'rf__n_estimators': [200, 300],\n",
        "    'rf__max_depth': [None, 10, 20],\n",
        "    'rf__min_samples_split': [5, 7],\n",
        "    'rf__min_samples_leaf': [2, 3]\n",
        "}\n",
        "\n",
        "# 파이프라인 구성\n",
        "pipeline = Pipeline([\n",
        "    ('smote', SMOTE(random_state=42)),\n",
        "    ('rf', RandomForestClassifier(random_state=42))\n",
        "])\n",
        "\n",
        "# StratifiedKFold 기반 GridSearch\n",
        "cv = StratifiedKFold(n_splits=5, shuffle=True, random_state=42)\n",
        "\n",
        "grid_search = GridSearchCV(\n",
        "    estimator=pipeline,\n",
        "    param_grid=param_grid,\n",
        "    scoring='f1_macro',\n",
        "    cv=cv,\n",
        "    n_jobs=-1,\n",
        "    verbose=1,\n",
        "    return_train_score=False\n",
        ")\n",
        "\n",
        "# GridSearch 수행\n",
        "grid_search.fit(X, y)\n",
        "\n",
        "# 최적 모델\n",
        "best_model = grid_search.best_estimator_\n",
        "\n",
        "# 결과 출력\n",
        "print(\"\\n Best Parameters:\")\n",
        "print(grid_search.best_params_)"
      ],
      "metadata": {
        "colab": {
          "base_uri": "https://localhost:8080/"
        },
        "id": "Qd0Vckex4SKQ",
        "outputId": "70090d69-084b-4f86-a761-c69f9cd347f5"
      },
      "execution_count": null,
      "outputs": [
        {
          "output_type": "stream",
          "name": "stdout",
          "text": [
            "Fitting 5 folds for each of 24 candidates, totalling 120 fits\n",
            "\n",
            " Best Parameters:\n",
            "{'rf__max_depth': 10, 'rf__min_samples_leaf': 2, 'rf__min_samples_split': 5, 'rf__n_estimators': 200}\n"
          ]
        }
      ]
    },
    {
      "cell_type": "code",
      "source": [
        "# smote 알고리즘 적용\n",
        "skf = StratifiedKFold(n_splits=5, shuffle=True, random_state=42)\n",
        "\n",
        "precision_list = []\n",
        "recall_list = []\n",
        "f1_list = []\n",
        "accuracy_list = []\n",
        "feature_importances = []\n",
        "conf_matrix_sum = None\n",
        "y_test_list = []\n",
        "y_proba_list = []\n",
        "\n",
        "for train_idx, test_idx in skf.split(X, y):\n",
        "    X_train_fold, X_test_fold = X.iloc[train_idx], X.iloc[test_idx]\n",
        "    y_train_fold, y_test_fold = y.iloc[train_idx], y.iloc[test_idx]\n",
        "\n",
        "    smote = SMOTE(random_state=42)\n",
        "    X_resampled, y_resampled = smote.fit_resample(X_train_fold, y_train_fold)\n",
        "\n",
        "    rf = RandomForestClassifier(\n",
        "        random_state=42,\n",
        "        max_depth=10,\n",
        "        min_samples_leaf=2,\n",
        "        min_samples_split=5,\n",
        "        n_estimators=200\n",
        "    )\n",
        "    rf.fit(X_resampled, y_resampled)\n",
        "\n",
        "    y_proba = rf.predict_proba(X_test_fold)[:, 1]\n",
        "    fpr, tpr, thresholds = roc_curve(y_test_fold, y_proba)\n",
        "    best_threshold = thresholds[np.argmax(tpr - fpr)]\n",
        "    y_pred_fold = (y_proba >= best_threshold).astype(int)\n",
        "\n",
        "    report = classification_report(y_test_fold, y_pred_fold, output_dict=True)\n",
        "    precision_list.append(report['macro avg']['precision'])\n",
        "    recall_list.append(report['macro avg']['recall'])\n",
        "    f1_list.append(report['macro avg']['f1-score'])\n",
        "    accuracy_list.append(accuracy_score(y_test_fold, y_pred_fold))\n",
        "    feature_importances.append(rf.feature_importances_)\n",
        "\n",
        "    cm = confusion_matrix(y_test_fold, y_pred_fold)\n",
        "    conf_matrix_sum = cm if conf_matrix_sum is None else conf_matrix_sum + cm\n",
        "\n",
        "    y_test_list.append(y_test_fold)\n",
        "    y_proba_list.append(y_proba)\n",
        "\n",
        "# 평균 중요도\n",
        "mean_importances = np.mean(feature_importances, axis=0)\n",
        "importance_df = pd.DataFrame({\n",
        "    'Feature': X.columns,\n",
        "    'Importance': mean_importances\n",
        "}).sort_values(by='Importance', ascending=False)\n",
        "\n",
        "# 결과 출력\n",
        "print(\"Average Scores over 5 folds (with threshold optimization):\")\n",
        "print(f\"Precision (macro): {np.mean(precision_list):.4f}\")\n",
        "print(f\"Recall (macro):    {np.mean(recall_list):.4f}\")\n",
        "print(f\"F1-score (macro):  {np.mean(f1_list):.4f}\")\n",
        "print(f\"Accuracy:          {np.mean(accuracy_list):.4f}\")\n",
        "\n",
        "print(\"\\nAverage Feature Importances:\")\n",
        "print(importance_df)\n",
        "print(\"\\nTotal Confusion Matrix over 5 folds:\")\n",
        "print(conf_matrix_sum)\n",
        "\n",
        "# ROC Curve 시각화\n",
        "plt.figure(figsize=(10, 7))\n",
        "for i in range(len(y_test_list)):\n",
        "    fpr, tpr, _ = roc_curve(y_test_list[i], y_proba_list[i])\n",
        "    roc_auc = auc(fpr, tpr)\n",
        "    plt.plot(fpr, tpr, label=f'Fold {i+1} (AUC = {roc_auc:.2f})')\n",
        "\n",
        "plt.plot([0, 1], [0, 1], linestyle='--', color='gray')\n",
        "plt.title('ROC Curves for Each Fold')\n",
        "plt.xlabel('False Positive Rate')\n",
        "plt.ylabel('True Positive Rate')\n",
        "plt.legend()\n",
        "plt.grid(True)\n",
        "plt.tight_layout()\n",
        "plt.show()\n"
      ],
      "metadata": {
        "colab": {
          "base_uri": "https://localhost:8080/",
          "height": 1000
        },
        "id": "KybrnOyHruqt",
        "outputId": "3a79da96-4d29-4613-9468-348cce562a51"
      },
      "execution_count": null,
      "outputs": [
        {
          "output_type": "stream",
          "name": "stdout",
          "text": [
            "Average Scores over 5 folds (with threshold optimization):\n",
            "Precision (macro): 0.7549\n",
            "Recall (macro):    0.8029\n",
            "F1-score (macro):  0.7486\n",
            "Accuracy:          0.7600\n",
            "\n",
            "Average Feature Importances:\n",
            "                                 Feature  Importance\n",
            "14          Incentive Participation_True    0.453032\n",
            "3                 Peak Consumption (kWh)    0.062738\n",
            "0                                    Age    0.058405\n",
            "6   Consumption by Time of Day (Evening)    0.058337\n",
            "7                        Engagement Rate    0.058024\n",
            "4                  Avg Consumption (kWh)    0.050141\n",
            "2              Monthly Consumption (kWh)    0.049087\n",
            "5   Consumption by Time of Day (Morning)    0.046019\n",
            "1                         Household Size    0.034419\n",
            "12            Marketing Interaction_True    0.032252\n",
            "13                Pricing Plan_Flat Rate    0.032058\n",
            "10                        Location_Loc_4    0.018385\n",
            "11                        Location_Loc_5    0.018010\n",
            "8                         Location_Loc_2    0.016735\n",
            "9                         Location_Loc_3    0.012358\n",
            "\n",
            "Total Confusion Matrix over 5 folds:\n",
            "[[487 213]\n",
            " [ 27 273]]\n"
          ]
        },
        {
          "output_type": "display_data",
          "data": {
            "text/plain": [
              "<Figure size 1000x700 with 1 Axes>"
            ],
            "image/png": "[encoded data removed]"
          },
          "metadata": {}
        }
      ]
    },
    {
      "cell_type": "code",
      "source": [
        "#decision tree algorithm\n",
        "skf = StratifiedKFold(n_splits=5, shuffle=True, random_state=42)\n",
        "smote = SMOTE(random_state=42)\n",
        "\n",
        "conf_matrix_sum = None\n",
        "reports = []\n",
        "\n",
        "for train_idx, test_idx in skf.split(X, y):\n",
        "    X_train_fold, X_test_fold = X.iloc[train_idx], X.iloc[test_idx]\n",
        "    y_train_fold, y_test_fold = y.iloc[train_idx], y.iloc[test_idx]\n",
        "\n",
        "    # SMOTE 적용\n",
        "    smote = SMOTE(random_state=42)\n",
        "    X_resampled, y_resampled = smote.fit_resample(X_train_fold, y_train_fold)\n",
        "\n",
        "    # 결정 트리 학습\n",
        "    dt = DecisionTreeClassifier(random_state=42, max_depth=10, min_samples_leaf=2, min_samples_split=5)\n",
        "    dt.fit(X_resampled, y_resampled)\n",
        "\n",
        "    y_proba = dt.predict_proba(X_test_fold)[:, 1]\n",
        "\n",
        "    # 최적 threshold 계산 (각 fold마다 다른 임계치 적용)\n",
        "    fpr, tpr, thresholds = roc_curve(y_test_fold, y_proba)\n",
        "    best_threshold = thresholds[np.argmax(tpr - fpr)]\n",
        "\n",
        "    # threshold 적용\n",
        "    y_pred_fold = (y_proba >= best_threshold).astype(int)\n",
        "\n",
        "    # confusion matrix 누적\n",
        "    cm = confusion_matrix(y_test_fold, y_pred_fold)\n",
        "    if conf_matrix_sum is None:\n",
        "        conf_matrix_sum = cm\n",
        "    else:\n",
        "        conf_matrix_sum += cm\n",
        "\n",
        "    # classification report 저장\n",
        "    report = classification_report(y_test_fold, y_pred_fold, output_dict=True)\n",
        "    reports.append(report)\n",
        "\n",
        "# 각 지표 평균 계산\n",
        "avg_precision = np.mean([r['macro avg']['precision'] for r in reports])\n",
        "avg_recall = np.mean([r['macro avg']['recall'] for r in reports])\n",
        "avg_f1 = np.mean([r['macro avg']['f1-score'] for r in reports])\n",
        "avg_accuracy = np.mean([r['accuracy'] for r in reports])\n",
        "\n",
        "# 출력\n",
        "print(\"Confusion Matrix (SMOTE + Decision Tree):\")\n",
        "print(conf_matrix_sum)\n",
        "\n",
        "print(\"\\nPerformance Metrics (macro average):\")\n",
        "print(f\"Accuracy:  {avg_accuracy:.4f}\")\n",
        "print(f\"Precision: {avg_precision:.4f}\")\n",
        "print(f\"Recall:    {avg_recall:.4f}\")\n",
        "print(f\"F1-score:  {avg_f1:.4f}\")"
      ],
      "metadata": {
        "colab": {
          "base_uri": "https://localhost:8080/"
        },
        "id": "Knh5dG2_PxSf",
        "outputId": "122e8aba-405e-4883-f25b-b87d60c8e815"
      },
      "execution_count": null,
      "outputs": [
        {
          "output_type": "stream",
          "name": "stdout",
          "text": [
            "Confusion Matrix (SMOTE + Decision Tree):\n",
            "[[519 181]\n",
            " [ 95 205]]\n",
            "\n",
            "Performance Metrics (macro average):\n",
            "Accuracy:  0.7240\n",
            "Precision: 0.6898\n",
            "Recall:    0.7124\n",
            "F1-score:  0.6939\n"
          ]
        }
      ]
    },
    {
      "cell_type": "code",
      "source": [],
      "metadata": {
        "id": "jYQ3Xl8VdCAl"
      },
      "execution_count": null,
      "outputs": []
    }
  ]
}